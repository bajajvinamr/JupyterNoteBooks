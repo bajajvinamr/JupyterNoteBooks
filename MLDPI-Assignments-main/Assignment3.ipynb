{
  "nbformat": 4,
  "nbformat_minor": 0,
  "metadata": {
    "colab": {
      "name": "Assignment3.ipynb",
      "provenance": [],
      "authorship_tag": "ABX9TyMy7JFL6FALco3JKO5p+Hz6",
      "include_colab_link": true
    },
    "kernelspec": {
      "name": "python3",
      "display_name": "Python 3"
    }
  },
  "cells": [
    {
      "cell_type": "markdown",
      "metadata": {
        "id": "view-in-github",
        "colab_type": "text"
      },
      "source": [
        "<a href=\"https://colab.research.google.com/github/bajajvinamr/MLDPI-Assignments/blob/main/Assignment3.ipynb\" target=\"_parent\"><img src=\"https://colab.research.google.com/assets/colab-badge.svg\" alt=\"Open In Colab\"/></a>"
      ]
    },
    {
      "cell_type": "markdown",
      "metadata": {
        "id": "IrzwcxWsCN6v"
      },
      "source": [
        "```\r\n",
        "Q1.)Write a Python Program to implement your own myreduce() function which works exactly\r\n",
        "like Python's built-in function reduce()\r\n",
        "```\r\n"
      ]
    },
    {
      "cell_type": "code",
      "metadata": {
        "id": "_IwivsJsuNqW"
      },
      "source": [
        "def myreduce(fun,arr):\r\n",
        "  ans=arr[0]\r\n",
        "  for i in arr:\r\n",
        "    ans=fun(ans,i)\r\n",
        "  return ans"
      ],
      "execution_count": 1,
      "outputs": []
    },
    {
      "cell_type": "markdown",
      "metadata": {
        "id": "v7LfJxkvwHhl"
      },
      "source": [
        "```\r\n",
        "Q2.)Write a Python program to implement your own myfilter() function which works exactly\r\n",
        "like Python's built-in function filter()\r\n",
        "```"
      ]
    },
    {
      "cell_type": "code",
      "metadata": {
        "id": "9LNe8k1VwP3c"
      },
      "source": [
        "def myfilter(fun,arr):\r\n",
        "  for i in arr:\r\n",
        "    if fun(i) == True:\r\n",
        "      pass\r\n",
        "    else:\r\n",
        "      arr.remove(i)"
      ],
      "execution_count": 12,
      "outputs": []
    },
    {
      "cell_type": "markdown",
      "metadata": {
        "id": "c_lwRq0XxTml"
      },
      "source": [
        "```\r\n",
        "Q.3)Implement List comprehensions to produce the following lists.\r\n",
        "Write List comprehensions to produce the following Lists\r\n",
        "1.)['A', 'C', 'A', 'D', 'G', 'I', ’L’, ‘ D’]\r\n",
        "2.)['x', 'xx', 'xxx', 'xxxx', 'y', 'yy', 'yyy', 'yyyy', 'z', 'zz', 'zzz', 'zzzz']\r\n",
        "3.)['x', 'y', 'z', 'xx', 'yy', 'zz', 'xxx', 'yyy', 'zzz', 'xxxx', 'yyyy', 'zzzz']\r\n",
        "4.)[[2], [3], [4], [3], [4], [5], [4], [5], [6]] \r\n",
        "5.)[[2, 3, 4, 5], [3, 4, 5, 6], [4, 5, 6, 7], [5, 6, 7, 8]]\r\n",
        "6.)[(1, 1), (2, 1), (3, 1), (1, 2), (2, 2), (3, 2), (1, 3), (2, 3), (3, 3)]\r\n",
        "```"
      ]
    },
    {
      "cell_type": "code",
      "metadata": {
        "colab": {
          "base_uri": "https://localhost:8080/"
        },
        "id": "zblT3t1V4E2Z",
        "outputId": "c6400e12-3e70-42d5-aa83-bfca9678cae9"
      },
      "source": [
        "#1\r\n",
        "arr = [ i for i in ['A', 'C', 'A', 'D', 'G', 'I', 'L' , 'D' ]]"
      ],
      "execution_count": 22,
      "outputs": [
        {
          "output_type": "execute_result",
          "data": {
            "text/plain": [
              "['A', 'C', 'A', 'D', 'G', 'I', 'L', 'D']"
            ]
          },
          "metadata": {
            "tags": []
          },
          "execution_count": 22
        }
      ]
    },
    {
      "cell_type": "code",
      "metadata": {
        "colab": {
          "base_uri": "https://localhost:8080/"
        },
        "id": "50gJR8dj3rrO",
        "outputId": "a0bbff6f-a0dd-4bf8-e994-2776d0b2d60d"
      },
      "source": [
        "#2 \r\n",
        "arr = [ i*n for i in ['x','y','z'] for n in range(1,5) ]"
      ],
      "execution_count": 20,
      "outputs": [
        {
          "output_type": "execute_result",
          "data": {
            "text/plain": [
              "['x', 'xx', 'xxx', 'xxxx', 'y', 'yy', 'yyy', 'yyyy', 'z', 'zz', 'zzz', 'zzzz']"
            ]
          },
          "metadata": {
            "tags": []
          },
          "execution_count": 20
        }
      ]
    },
    {
      "cell_type": "code",
      "metadata": {
        "colab": {
          "base_uri": "https://localhost:8080/"
        },
        "id": "gopW11aw8MWM",
        "outputId": "bba9eb4a-1a4a-4b8d-fe18-5926b2561d00"
      },
      "source": [
        "#3\r\n",
        "arr = [ i*n for n in range(1,5) for i in ['x','y','z']  ]"
      ],
      "execution_count": 24,
      "outputs": [
        {
          "output_type": "execute_result",
          "data": {
            "text/plain": [
              "['x', 'y', 'z', 'xx', 'yy', 'zz', 'xxx', 'yyy', 'zzz', 'xxxx', 'yyyy', 'zzzz']"
            ]
          },
          "metadata": {
            "tags": []
          },
          "execution_count": 24
        }
      ]
    },
    {
      "cell_type": "code",
      "metadata": {
        "colab": {
          "base_uri": "https://localhost:8080/"
        },
        "id": "v0dWQdmd8ox1",
        "outputId": "20b6c835-bec9-471b-a5a9-b1370119f9af"
      },
      "source": [
        "#4\r\n",
        "arr = [ [i+n]  for i in [2,3,4] for n in range(0,3)]"
      ],
      "execution_count": 39,
      "outputs": [
        {
          "output_type": "execute_result",
          "data": {
            "text/plain": [
              "[[2], [3], [4], [3], [4], [5], [4], [5], [6]]"
            ]
          },
          "metadata": {
            "tags": []
          },
          "execution_count": 39
        }
      ]
    },
    {
      "cell_type": "code",
      "metadata": {
        "colab": {
          "base_uri": "https://localhost:8080/"
        },
        "id": "a1psX3o9-YB-",
        "outputId": "42d5b036-5229-45f3-9cdc-cfff4538ed41"
      },
      "source": [
        "#5\r\n",
        "arr = [ [i+n for i in [2,3,4,5]] for n in range(0,4)]"
      ],
      "execution_count": 45,
      "outputs": [
        {
          "output_type": "execute_result",
          "data": {
            "text/plain": [
              "[[2, 3, 4, 5], [3, 4, 5, 6], [4, 5, 6, 7], [5, 6, 7, 8]]"
            ]
          },
          "metadata": {
            "tags": []
          },
          "execution_count": 45
        }
      ]
    },
    {
      "cell_type": "code",
      "metadata": {
        "colab": {
          "base_uri": "https://localhost:8080/"
        },
        "id": "qkyfUdaj-6S7",
        "outputId": "348c83a9-14f1-46dc-bc35-8acb62c11a1a"
      },
      "source": [
        "#6\r\n",
        "arr = [(i,n) for i in range (1,4) for n in range (1,4)]"
      ],
      "execution_count": 43,
      "outputs": [
        {
          "output_type": "execute_result",
          "data": {
            "text/plain": [
              "[(1, 1), (1, 2), (1, 3), (2, 1), (2, 2), (2, 3), (3, 1), (3, 2), (3, 3)]"
            ]
          },
          "metadata": {
            "tags": []
          },
          "execution_count": 43
        }
      ]
    }
  ]
}