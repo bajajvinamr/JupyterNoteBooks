{
  "nbformat": 4,
  "nbformat_minor": 0,
  "metadata": {
    "colab": {
      "name": "Assignment 1",
      "provenance": [],
      "authorship_tag": "ABX9TyN/d3O+y7m+Zco/0nWsdHaA",
      "include_colab_link": true
    },
    "kernelspec": {
      "name": "python3",
      "display_name": "Python 3"
    }
  },
  "cells": [
    {
      "cell_type": "markdown",
      "metadata": {
        "id": "view-in-github",
        "colab_type": "text"
      },
      "source": [
        "<a href=\"https://colab.research.google.com/github/bajajvinamr/MLDPI-Assignments/blob/main/Assignment_1.ipynb\" target=\"_parent\"><img src=\"https://colab.research.google.com/assets/colab-badge.svg\" alt=\"Open In Colab\"/></a>"
      ]
    },
    {
      "cell_type": "markdown",
      "metadata": {
        "id": "h72E-XrrYP5R"
      },
      "source": [
        "\n",
        "\n",
        "```\n",
        "Q1.) Write a program which will find all such numbers which are divisible by 7 but are not a multiple of 5, between 2000 and 3200 (both included).\n",
        " The numbers obtained should be printed in a comma-separated sequence on a single line. \n",
        "\n",
        "```\n",
        "\n"
      ]
    },
    {
      "cell_type": "code",
      "metadata": {
        "id": "6SHYbGPDYIpM",
        "colab": {
          "base_uri": "https://localhost:8080/"
        },
        "outputId": "1a0f7f7a-ae6f-4c8e-8a76-5151909ee4a7"
      },
      "source": [
        "for i in range(2000,3201,1):\n",
        "    if i%7==0:\n",
        "      if(i%5!=0): \n",
        "        print(i,\",\",end =\" \")\n",
        "  "
      ],
      "execution_count": 3,
      "outputs": [
        {
          "output_type": "stream",
          "text": [
            "2002 , 2009 , 2016 , 2023 , 2037 , 2044 , 2051 , 2058 , 2072 , 2079 , 2086 , 2093 , 2107 , 2114 , 2121 , 2128 , 2142 , 2149 , 2156 , 2163 , 2177 , 2184 , 2191 , 2198 , 2212 , 2219 , 2226 , 2233 , 2247 , 2254 , 2261 , 2268 , 2282 , 2289 , 2296 , 2303 , 2317 , 2324 , 2331 , 2338 , 2352 , 2359 , 2366 , 2373 , 2387 , 2394 , 2401 , 2408 , 2422 , 2429 , 2436 , 2443 , 2457 , 2464 , 2471 , 2478 , 2492 , 2499 , 2506 , 2513 , 2527 , 2534 , 2541 , 2548 , 2562 , 2569 , 2576 , 2583 , 2597 , 2604 , 2611 , 2618 , 2632 , 2639 , 2646 , 2653 , 2667 , 2674 , 2681 , 2688 , 2702 , 2709 , 2716 , 2723 , 2737 , 2744 , 2751 , 2758 , 2772 , 2779 , 2786 , 2793 , 2807 , 2814 , 2821 , 2828 , 2842 , 2849 , 2856 , 2863 , 2877 , 2884 , 2891 , 2898 , 2912 , 2919 , 2926 , 2933 , 2947 , 2954 , 2961 , 2968 , 2982 , 2989 , 2996 , 3003 , 3017 , 3024 , 3031 , 3038 , 3052 , 3059 , 3066 , 3073 , 3087 , 3094 , 3101 , 3108 , 3122 , 3129 , 3136 , 3143 , 3157 , 3164 , 3171 , 3178 , 3192 , 3199 , "
          ],
          "name": "stdout"
        }
      ]
    },
    {
      "cell_type": "markdown",
      "metadata": {
        "id": "rgik4Jispupi"
      },
      "source": [
        "```\n",
        "Q2.)Write a Python program to accept the user's first and last name and then getting them printed in the the reverse order with a space between first name and last name. \n",
        "```"
      ]
    },
    {
      "cell_type": "code",
      "metadata": {
        "id": "OGpeuBxfpw1o",
        "colab": {
          "base_uri": "https://localhost:8080/",
          "height": 68
        },
        "outputId": "4e7ec4d2-d425-40a9-cf4d-fe61c58fcb7f"
      },
      "source": [
        "first_name=input()\n",
        "last_name= input()\n",
        "print(last_name,\" \",first_name)\n"
      ],
      "execution_count": null,
      "outputs": [
        {
          "output_type": "stream",
          "text": [
            "Vinamr\n",
            "Bajaj\n",
            "Bajaj   Vinamr\n"
          ],
          "name": "stdout"
        }
      ]
    },
    {
      "cell_type": "markdown",
      "metadata": {
        "id": "XtXnP_USqAT_"
      },
      "source": [
        "```\n",
        "Q3.) Write a Python program to find the volume of a sphere with diameter 12 cm. \n",
        "Formula: V=4/3 * π * r \n",
        "```\n"
      ]
    },
    {
      "cell_type": "code",
      "metadata": {
        "id": "WNL1ujlxqBfw",
        "colab": {
          "base_uri": "https://localhost:8080/",
          "height": 34
        },
        "outputId": "0b0dc13d-c9a5-4202-eb8a-987ef569daa1"
      },
      "source": [
        "from math import pi\n",
        "v=4/3*pi*pow(12,3)\n",
        "print(v)"
      ],
      "execution_count": null,
      "outputs": [
        {
          "output_type": "stream",
          "text": [
            "7238.229473870882\n"
          ],
          "name": "stdout"
        }
      ]
    }
  ]
}